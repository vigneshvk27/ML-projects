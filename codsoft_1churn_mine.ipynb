{
  "cells": [
    {
      "cell_type": "code",
      "execution_count": 1,
      "metadata": {
        "id": "EUDo991mztCA"
      },
      "outputs": [],
      "source": [
        "import pandas as pd\n",
        "import numpy as np\n",
        "import matplotlib.pyplot as plt\n",
        "import seaborn as sns\n",
        "from sklearn.model_selection import train_test_split, GridSearchCV\n",
        "from sklearn.preprocessing import StandardScaler, LabelEncoder\n",
        "from sklearn.ensemble import RandomForestClassifier, GradientBoostingClassifier\n",
        "from sklearn.tree import DecisionTreeClassifier\n",
        "from sklearn.neighbors import KNeighborsClassifier\n",
        "from sklearn.linear_model import LogisticRegression\n",
        "from sklearn.metrics import accuracy_score, confusion_matrix, classification_report"
      ]
    },
    {
      "cell_type": "code",
      "execution_count": 2,
      "metadata": {
        "id": "bE0uBPlx52Oh"
      },
      "outputs": [],
      "source": [
        "# Load data\n",
        "data = pd.read_csv('/content/Churn_Modelling.csv')"
      ]
    },
    {
      "cell_type": "code",
      "execution_count": 3,
      "metadata": {
        "id": "dDeiaW5u511O"
      },
      "outputs": [],
      "source": [
        "# Drop unnecessary columns\n",
        "data.drop(columns=['CustomerId', 'RowNumber', 'Surname'], inplace=True)"
      ]
    },
    {
      "cell_type": "code",
      "execution_count": 4,
      "metadata": {
        "id": "z7Ro5qlY51ve"
      },
      "outputs": [],
      "source": [
        "# Encode categorical variables\n",
        "gender_labels = {'Female': 0, 'Male': 1}\n",
        "geography_labels = {'France': 0, 'Germany': 1, 'Spain': 2}\n",
        "data['Gender'] = data['Gender'].map(gender_labels)\n",
        "data['Geography'] = data['Geography'].map(geography_labels)"
      ]
    },
    {
      "cell_type": "code",
      "execution_count": 5,
      "metadata": {
        "id": "H3DgL21j51tu"
      },
      "outputs": [],
      "source": [
        "# Separate features and target variable\n",
        "X = data.drop('Exited', axis=1)\n",
        "y = data['Exited']"
      ]
    },
    {
      "cell_type": "code",
      "execution_count": 6,
      "metadata": {
        "id": "bMMzcJxj51r8"
      },
      "outputs": [],
      "source": [
        "# Train-test split\n",
        "X_train, X_test, y_train, y_test = train_test_split(X, y, test_size=0.2, random_state=42)"
      ]
    },
    {
      "cell_type": "code",
      "execution_count": 7,
      "metadata": {
        "id": "FO9NFOoK6F5G"
      },
      "outputs": [],
      "source": [
        "# Standardize features\n",
        "scaler = StandardScaler()\n",
        "X_train_scaled = scaler.fit_transform(X_train)\n",
        "X_test_scaled = scaler.transform(X_test)"
      ]
    },
    {
      "cell_type": "code",
      "execution_count": 8,
      "metadata": {
        "id": "s_rMg9FV6FzY"
      },
      "outputs": [],
      "source": [
        "# Train models\n",
        "models = {\n",
        "    'Logistic Regression': LogisticRegression(),\n",
        "    'K Neighbors': KNeighborsClassifier(),\n",
        "    'Decision Tree': DecisionTreeClassifier(),\n",
        "    'Random Forest': RandomForestClassifier(),\n",
        "    'Gradient Boosting': GradientBoostingClassifier()\n",
        "}\n",
        "\n",
        "results = []\n",
        "\n",
        "for model_name, model in models.items():\n",
        "    model.fit(X_train_scaled, y_train)\n",
        "    y_pred = model.predict(X_test_scaled)\n",
        "\n",
        "    accuracy = accuracy_score(y_test, y_pred)\n",
        "    conf_matrix = confusion_matrix(y_test, y_pred)\n",
        "    class_report = classification_report(y_test, y_pred)\n",
        "\n",
        "    results.append({\n",
        "        'Model': model_name,\n",
        "        'Accuracy': accuracy,\n",
        "        'Confusion Matrix': conf_matrix,\n",
        "        'Classification Report': class_report\n",
        "    })"
      ]
    },
    {
      "cell_type": "code",
      "execution_count": 9,
      "metadata": {
        "colab": {
          "base_uri": "https://localhost:8080/"
        },
        "id": "WnAZfayb51ob",
        "outputId": "d4e2221c-724a-494d-f80b-18e4dc4666a5"
      },
      "outputs": [
        {
          "name": "stdout",
          "output_type": "stream",
          "text": [
            "\n",
            "Logistic Regression Results:\n",
            "Accuracy: 0.81%\n",
            "Confusion Matrix:\n",
            "[[1559   48]\n",
            " [ 322   71]]\n",
            "Classification Report:\n",
            "              precision    recall  f1-score   support\n",
            "\n",
            "           0       0.83      0.97      0.89      1607\n",
            "           1       0.60      0.18      0.28       393\n",
            "\n",
            "    accuracy                           0.81      2000\n",
            "   macro avg       0.71      0.58      0.59      2000\n",
            "weighted avg       0.78      0.81      0.77      2000\n",
            "\n",
            "--------------------------------------------------\n",
            "\n",
            "K Neighbors Results:\n",
            "Accuracy: 0.84%\n",
            "Confusion Matrix:\n",
            "[[1519   88]\n",
            " [ 241  152]]\n",
            "Classification Report:\n",
            "              precision    recall  f1-score   support\n",
            "\n",
            "           0       0.86      0.95      0.90      1607\n",
            "           1       0.63      0.39      0.48       393\n",
            "\n",
            "    accuracy                           0.84      2000\n",
            "   macro avg       0.75      0.67      0.69      2000\n",
            "weighted avg       0.82      0.84      0.82      2000\n",
            "\n",
            "--------------------------------------------------\n",
            "\n",
            "Decision Tree Results:\n",
            "Accuracy: 0.78%\n",
            "Confusion Matrix:\n",
            "[[1362  245]\n",
            " [ 194  199]]\n",
            "Classification Report:\n",
            "              precision    recall  f1-score   support\n",
            "\n",
            "           0       0.88      0.85      0.86      1607\n",
            "           1       0.45      0.51      0.48       393\n",
            "\n",
            "    accuracy                           0.78      2000\n",
            "   macro avg       0.66      0.68      0.67      2000\n",
            "weighted avg       0.79      0.78      0.79      2000\n",
            "\n",
            "--------------------------------------------------\n",
            "\n",
            "Random Forest Results:\n",
            "Accuracy: 0.87%\n",
            "Confusion Matrix:\n",
            "[[1552   55]\n",
            " [ 211  182]]\n",
            "Classification Report:\n",
            "              precision    recall  f1-score   support\n",
            "\n",
            "           0       0.88      0.97      0.92      1607\n",
            "           1       0.77      0.46      0.58       393\n",
            "\n",
            "    accuracy                           0.87      2000\n",
            "   macro avg       0.82      0.71      0.75      2000\n",
            "weighted avg       0.86      0.87      0.85      2000\n",
            "\n",
            "--------------------------------------------------\n",
            "\n",
            "Gradient Boosting Results:\n",
            "Accuracy: 0.87%\n",
            "Confusion Matrix:\n",
            "[[1547   60]\n",
            " [ 209  184]]\n",
            "Classification Report:\n",
            "              precision    recall  f1-score   support\n",
            "\n",
            "           0       0.88      0.96      0.92      1607\n",
            "           1       0.75      0.47      0.58       393\n",
            "\n",
            "    accuracy                           0.87      2000\n",
            "   macro avg       0.82      0.72      0.75      2000\n",
            "weighted avg       0.86      0.87      0.85      2000\n",
            "\n",
            "--------------------------------------------------\n"
          ]
        }
      ],
      "source": [
        "# Display results\n",
        "for result in results:\n",
        "    print(f\"\\n{result['Model']} Results:\")\n",
        "    print(f\"Accuracy: {result['Accuracy']:.2f}%\")\n",
        "    print(\"Confusion Matrix:\")\n",
        "    print(result['Confusion Matrix'])\n",
        "    print(\"Classification Report:\")\n",
        "    print(result['Classification Report'])\n",
        "    print(\"-\" * 50)"
      ]
    },
    {
      "cell_type": "code",
      "execution_count": 10,
      "metadata": {
        "colab": {
          "base_uri": "https://localhost:8080/",
          "height": 587
        },
        "id": "u7LCECRx508M",
        "outputId": "8c73744e-fbf3-4812-8ca7-0f6f9727d039"
      },
      "outputs": [
        {
          "data": {
            "image/png": "[encoded data removed]",
            "text/plain": [
              "<Figure size 1000x500 with 1 Axes>"
            ]
          },
          "metadata": {},
          "output_type": "display_data"
        }
      ],
      "source": [
        "# Feature Importance (Random Forest)\n",
        "classifier_rf = models['Random Forest']\n",
        "feature_importances = pd.Series(classifier_rf.feature_importances_, index=X.columns).sort_values(ascending=False)\n",
        "plt.figure(figsize=(10, 5))\n",
        "feature_importances.plot.bar()\n",
        "plt.title(\"Feature Importance (Random Forest)\")\n",
        "plt.xlabel(\"Features\")\n",
        "plt.ylabel(\"Importance\")\n",
        "plt.show()"
      ]
    }
  ],
  "metadata": {
    "accelerator": "GPU",
    "colab": {
      "gpuType": "T4",
      "provenance": []
    },
    "kernelspec": {
      "display_name": "Python 3",
      "name": "python3"
    },
    "language_info": {
      "name": "python"
    }
  },
  "nbformat": 4,
  "nbformat_minor": 0
}
